{
 "cells": [
  {
   "cell_type": "code",
   "execution_count": 1,
   "metadata": {},
   "outputs": [
    {
     "data": {
      "text/plain": [
       "True"
      ]
     },
     "execution_count": 1,
     "metadata": {},
     "output_type": "execute_result"
    }
   ],
   "source": [
    "from dotenv import load_dotenv\n",
    "load_dotenv()"
   ]
  },
  {
   "cell_type": "code",
   "execution_count": 2,
   "metadata": {},
   "outputs": [],
   "source": [
    "from langchain_openai import ChatOpenAI\n",
    "from langchain_core.output_parsers import StrOutputParser\n",
    "\n",
    "llm = ChatOpenAI(model=\"gpt-4o-mini\")\n",
    "parser = StrOutputParser()\n",
    "\n",
    "chain = llm | parser"
   ]
  },
  {
   "cell_type": "code",
   "execution_count": 3,
   "metadata": {},
   "outputs": [
    {
     "data": {
      "text/plain": [
       "'좋은 계획이네요! 수영은 건강에도 좋고 스트레스 해소에도 도움이 됩니다. 어떤 수영 운동을 할 예정인가요?'"
      ]
     },
     "execution_count": 3,
     "metadata": {},
     "output_type": "execute_result"
    }
   ],
   "source": [
    "from langchain_core.messages import HumanMessage, AIMessage\n",
    "chain.invoke([\n",
    "    HumanMessage(content=\"내일은 수영을 가야지!\")\n",
    "])"
   ]
  },
  {
   "cell_type": "code",
   "execution_count": 4,
   "metadata": {},
   "outputs": [
    {
     "data": {
      "text/plain": [
       "'제가 직접적인 정보를 알 수는 없지만, 만약 당신이 미리 계획한 일정이 있다면, 캘린더나 메모를 확인해보는 것이 좋을 것 같습니다. 혹시 그 일정에 대해 더 이야기해주실 수 있다면 도움을 드리겠습니다!'"
      ]
     },
     "execution_count": 4,
     "metadata": {},
     "output_type": "execute_result"
    }
   ],
   "source": [
    "chain.invoke([\n",
    "    HumanMessage(content=\"내일 뭐하러 간다고 했지?\")\n",
    "])"
   ]
  },
  {
   "cell_type": "code",
   "execution_count": 5,
   "metadata": {},
   "outputs": [
    {
     "data": {
      "text/plain": [
       "'내일 수영을 가기로 했다고 하셨습니다! 수영을 하면서 즐거운 시간 보내세요. 혹시 더 궁금한 점이나 계획이 있으신가요?'"
      ]
     },
     "execution_count": 5,
     "metadata": {},
     "output_type": "execute_result"
    }
   ],
   "source": [
    "chain.invoke([\n",
    "    HumanMessage(content=\"내일은 수영을 가야지!\"),\n",
    "    AIMessage(content=\"좋은 계획이네요! 수영은 건강에도 좋고 스트레스 해소에도 도움이 됩니다. 어떤 수영 운동을 할 예정인가요?\"),\n",
    "    HumanMessage(content=\"내일 뭐하러 간다고 했지?\")\n",
    "])"
   ]
  }
 ],
 "metadata": {
  "kernelspec": {
   "display_name": "Python 3",
   "language": "python",
   "name": "python3"
  },
  "language_info": {
   "codemirror_mode": {
    "name": "ipython",
    "version": 3
   },
   "file_extension": ".py",
   "mimetype": "text/x-python",
   "name": "python",
   "nbconvert_exporter": "python",
   "pygments_lexer": "ipython3",
   "version": "3.11.9"
  }
 },
 "nbformat": 4,
 "nbformat_minor": 2
}
