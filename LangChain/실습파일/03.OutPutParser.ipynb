{
 "cells": [
  {
   "cell_type": "code",
   "execution_count": 1,
   "metadata": {},
   "outputs": [
    {
     "data": {
      "text/plain": [
       "True"
      ]
     },
     "execution_count": 1,
     "metadata": {},
     "output_type": "execute_result"
    }
   ],
   "source": [
    "from dotenv import load_dotenv\n",
    "load_dotenv()"
   ]
  },
  {
   "cell_type": "code",
   "execution_count": 3,
   "metadata": {},
   "outputs": [
    {
     "data": {
      "text/plain": [
       "AIMessage(content='병원은 질병이나 부상을 치료하고 관리하기 위한 시설입니다. 의사, 간호사, 기타 의료전문가들이 환자를 진료하며, 진단, 치료, 수술 등의 다양한 의료 서비스를 제공합니다. 병원은 응급실, 외래 진료, 입원 치료 등의 기능을 수행하며, 일반적인 건강 검진부터 전문 의료 서비스까지 폭넓은 역할을 합니다. 병원은 주로 인체의 건강을 유지하고 회복하는 데 중요한 장소입니다.', additional_kwargs={'refusal': None}, response_metadata={'token_usage': {'completion_tokens': 107, 'prompt_tokens': 22, 'total_tokens': 129, 'completion_tokens_details': {'accepted_prediction_tokens': 0, 'audio_tokens': 0, 'reasoning_tokens': 0, 'rejected_prediction_tokens': 0}, 'prompt_tokens_details': {'audio_tokens': 0, 'cached_tokens': 0}}, 'model_name': 'gpt-4o-mini-2024-07-18', 'system_fingerprint': 'fp_62a23a81ef', 'finish_reason': 'stop', 'logprobs': None}, id='run--0235a24d-eb25-4814-b64f-720aa201884b-0', usage_metadata={'input_tokens': 22, 'output_tokens': 107, 'total_tokens': 129, 'input_token_details': {'audio': 0, 'cache_read': 0}, 'output_token_details': {'audio': 0, 'reasoning': 0}})"
      ]
     },
     "execution_count": 3,
     "metadata": {},
     "output_type": "execute_result"
    }
   ],
   "source": [
    "from langchain_openai import ChatOpenAI\n",
    "from langchain_core.prompts import PromptTemplate\n",
    "\n",
    "llm = ChatOpenAI(model=\"gpt-4o-mini\")\n",
    "prompt_template = PromptTemplate.from_template(\n",
    "    \"입력한 단어에 대해 간단히 설명하세요 : {word}\"\n",
    ")\n",
    "\n",
    "chain = prompt_template | llm\n",
    "chain.invoke(\n",
    "    input = {\n",
    "        \"word\": \"병원\"\n",
    "    }\n",
    ")"
   ]
  },
  {
   "cell_type": "code",
   "execution_count": 4,
   "metadata": {},
   "outputs": [
    {
     "data": {
      "text/plain": [
       "'병원은 의료 서비스를 제공하는 시설로, 환자 진료, 치료, 수술, 검진 등을 수행하는 곳입니다. 일반적으로 의사, 간호사, 병리검사 전문가 등 다양한 의료 전문가들이 근무하며, 응급실, 일반 병동, 외래 진료소, 수술실 등이 포함될 수 있습니다. 병원은 다양한 질병이나 상해를 치료하고, 건강을 유지하기 위한 예방의학 서비스도 제공합니다.'"
      ]
     },
     "execution_count": 4,
     "metadata": {},
     "output_type": "execute_result"
    }
   ],
   "source": [
    "from langchain_core.output_parsers import StrOutputParser\n",
    "parser = StrOutputParser()\n",
    "\n",
    "chain = prompt_template | llm | parser\n",
    "chain.invoke({\"word\": \"병원\"})"
   ]
  }
 ],
 "metadata": {
  "kernelspec": {
   "display_name": "Python 3",
   "language": "python",
   "name": "python3"
  },
  "language_info": {
   "codemirror_mode": {
    "name": "ipython",
    "version": 3
   },
   "file_extension": ".py",
   "mimetype": "text/x-python",
   "name": "python",
   "nbconvert_exporter": "python",
   "pygments_lexer": "ipython3",
   "version": "3.11.9"
  }
 },
 "nbformat": 4,
 "nbformat_minor": 2
}
