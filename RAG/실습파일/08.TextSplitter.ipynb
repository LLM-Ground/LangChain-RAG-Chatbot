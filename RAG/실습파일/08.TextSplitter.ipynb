{
 "cells": [
  {
   "cell_type": "code",
   "execution_count": 1,
   "id": "d2ae1be3",
   "metadata": {},
   "outputs": [],
   "source": [
    "from langchain_community.document_loaders import WikipediaLoader\n",
    "\n",
    "loader = WikipediaLoader(query='지진', lang='ko', load_max_docs=1, doc_content_chars_max=40000)\n",
    "docs = loader.load()"
   ]
  },
  {
   "cell_type": "code",
   "execution_count": 2,
   "id": "e821e856",
   "metadata": {},
   "outputs": [
    {
     "name": "stderr",
     "output_type": "stream",
     "text": [
      "Created a chunk of size 689, which is longer than the specified 100\n",
      "Created a chunk of size 547, which is longer than the specified 100\n",
      "Created a chunk of size 733, which is longer than the specified 100\n",
      "Created a chunk of size 329, which is longer than the specified 100\n",
      "Created a chunk of size 704, which is longer than the specified 100\n",
      "Created a chunk of size 1268, which is longer than the specified 100\n",
      "Created a chunk of size 173, which is longer than the specified 100\n",
      "Created a chunk of size 357, which is longer than the specified 100\n",
      "Created a chunk of size 519, which is longer than the specified 100\n",
      "Created a chunk of size 1006, which is longer than the specified 100\n",
      "Created a chunk of size 1451, which is longer than the specified 100\n",
      "Created a chunk of size 2325, which is longer than the specified 100\n",
      "Created a chunk of size 1052, which is longer than the specified 100\n",
      "Created a chunk of size 821, which is longer than the specified 100\n",
      "Created a chunk of size 1213, which is longer than the specified 100\n",
      "Created a chunk of size 613, which is longer than the specified 100\n",
      "Created a chunk of size 1260, which is longer than the specified 100\n",
      "Created a chunk of size 1317, which is longer than the specified 100\n",
      "Created a chunk of size 308, which is longer than the specified 100\n",
      "Created a chunk of size 375, which is longer than the specified 100\n",
      "Created a chunk of size 1082, which is longer than the specified 100\n",
      "Created a chunk of size 304, which is longer than the specified 100\n",
      "Created a chunk of size 1998, which is longer than the specified 100\n",
      "Created a chunk of size 388, which is longer than the specified 100\n",
      "Created a chunk of size 333, which is longer than the specified 100\n",
      "Created a chunk of size 203, which is longer than the specified 100\n",
      "Created a chunk of size 250, which is longer than the specified 100\n",
      "Created a chunk of size 1141, which is longer than the specified 100\n",
      "Created a chunk of size 342, which is longer than the specified 100\n",
      "Created a chunk of size 643, which is longer than the specified 100\n",
      "Created a chunk of size 912, which is longer than the specified 100\n",
      "Created a chunk of size 496, which is longer than the specified 100\n",
      "Created a chunk of size 321, which is longer than the specified 100\n",
      "Created a chunk of size 185, which is longer than the specified 100\n",
      "Created a chunk of size 864, which is longer than the specified 100\n",
      "Created a chunk of size 867, which is longer than the specified 100\n",
      "Created a chunk of size 216, which is longer than the specified 100\n",
      "Created a chunk of size 209, which is longer than the specified 100\n",
      "Created a chunk of size 111, which is longer than the specified 100\n",
      "Created a chunk of size 174, which is longer than the specified 100\n",
      "Created a chunk of size 463, which is longer than the specified 100\n",
      "Created a chunk of size 243, which is longer than the specified 100\n",
      "Created a chunk of size 894, which is longer than the specified 100\n",
      "Created a chunk of size 1014, which is longer than the specified 100\n",
      "Created a chunk of size 663, which is longer than the specified 100\n",
      "Created a chunk of size 381, which is longer than the specified 100\n",
      "Created a chunk of size 658, which is longer than the specified 100\n",
      "Created a chunk of size 204, which is longer than the specified 100\n",
      "Created a chunk of size 908, which is longer than the specified 100\n",
      "Created a chunk of size 746, which is longer than the specified 100\n",
      "Created a chunk of size 203, which is longer than the specified 100\n",
      "Created a chunk of size 606, which is longer than the specified 100\n"
     ]
    }
   ],
   "source": [
    "from langchain_text_splitters import CharacterTextSplitter\n",
    "\n",
    "text_splitter = CharacterTextSplitter(\n",
    "  separator=\"\\n\\n\",\n",
    "  chunk_size=100,\n",
    "  chunk_overlap=20,\n",
    "  length_function=len,\n",
    "  is_separator_regex=False\n",
    ")\n",
    "\n",
    "texts = text_splitter.split_documents(docs)"
   ]
  },
  {
   "cell_type": "code",
   "execution_count": 3,
   "id": "36c9be20",
   "metadata": {},
   "outputs": [
    {
     "data": {
      "text/plain": [
       "89"
      ]
     },
     "execution_count": 3,
     "metadata": {},
     "output_type": "execute_result"
    }
   ],
   "source": [
    "len(texts)"
   ]
  },
  {
   "cell_type": "code",
   "execution_count": 5,
   "id": "0fefcdee",
   "metadata": {},
   "outputs": [
    {
     "name": "stdout",
     "output_type": "stream",
     "text": [
      "Chunk Size: 689, Page Content: 지진(地震, 영어: earthquake, quake, tremor, temblor)은 지구 암석권 내부에서 갑작스럽게 에너지를 방출하면서 지진파를 만들어내며 지구 표면까지 흔들리는\n",
      "----------------------------------------------------------------------\n",
      "Chunk Size: 546, Page Content: == 어원 ==\n",
      "영어에서 'earthquake'는 13세기 'eorthequakynge'라는 중세 영어 단어에서 유래한 말로, \"땅에서 일어난 흔들림\"이라는 'quavinge of\n",
      "----------------------------------------------------------------------\n",
      "Chunk Size: 732, Page Content: == 특성 ==\n",
      "지질구조학적 지진은 단층면을 따라 파괴가 전파될 수 있을 정도로 충분한 탄성 변형 에너지가 축적된 지구 어디서나 발생할 수 있다. 단층면은 단층면 표면에 마찰 저항\n",
      "----------------------------------------------------------------------\n",
      "Chunk Size: 14, Page Content: === 진원과 진앙 ===\n",
      "----------------------------------------------------------------------\n",
      "Chunk Size: 329, Page Content: 지진은 지구 내부의 에너지가 축적되어 암석의 파열이 일어나는 한계를 넘어설 때 일어나는데, 암반이 파열되는 전체 영역을 진원역이라 한다. 규모 M8을 넘는 거대지진의 경우 진원역의\n",
      "----------------------------------------------------------------------\n"
     ]
    }
   ],
   "source": [
    "for text in texts[:5]:\n",
    "  print(f\"Chunk Size: {len(text.page_content)}, Page Content: {text.page_content[:100]}\")\n",
    "  print('-' * 70)"
   ]
  }
 ],
 "metadata": {
  "kernelspec": {
   "display_name": "Python 3",
   "language": "python",
   "name": "python3"
  },
  "language_info": {
   "codemirror_mode": {
    "name": "ipython",
    "version": 3
   },
   "file_extension": ".py",
   "mimetype": "text/x-python",
   "name": "python",
   "nbconvert_exporter": "python",
   "pygments_lexer": "ipython3",
   "version": "3.12.4"
  }
 },
 "nbformat": 4,
 "nbformat_minor": 5
}
