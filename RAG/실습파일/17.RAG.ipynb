{
 "cells": [
  {
   "cell_type": "code",
   "execution_count": 2,
   "metadata": {},
   "outputs": [
    {
     "data": {
      "text/plain": [
       "True"
      ]
     },
     "execution_count": 2,
     "metadata": {},
     "output_type": "execute_result"
    }
   ],
   "source": [
    "from dotenv import load_dotenv\n",
    "load_dotenv()"
   ]
  },
  {
   "cell_type": "code",
   "execution_count": 3,
   "metadata": {},
   "outputs": [],
   "source": [
    "from langchain_openai import ChatOpenAI\n",
    "llm = ChatOpenAI(model=\"gpt-4o-mini\")"
   ]
  },
  {
   "cell_type": "code",
   "execution_count": 4,
   "metadata": {},
   "outputs": [
    {
     "name": "stderr",
     "output_type": "stream",
     "text": [
      "No sentence-transformers model found with name klue/bert-base. Creating a new one with mean pooling.\n"
     ]
    }
   ],
   "source": [
    "from langchain_huggingface import HuggingFaceEmbeddings\n",
    "\n",
    "model_name = \"klue/bert-base\" # korea embedding model\n",
    "hf_embeddings = HuggingFaceEmbeddings(model_name=model_name)"
   ]
  },
  {
   "cell_type": "code",
   "execution_count": 5,
   "metadata": {},
   "outputs": [
    {
     "name": "stderr",
     "output_type": "stream",
     "text": [
      "Created a chunk of size 52, which is longer than the specified 1\n",
      "Created a chunk of size 46, which is longer than the specified 1\n",
      "Created a chunk of size 43, which is longer than the specified 1\n",
      "Created a chunk of size 47, which is longer than the specified 1\n",
      "Created a chunk of size 41, which is longer than the specified 1\n",
      "Created a chunk of size 41, which is longer than the specified 1\n",
      "Created a chunk of size 47, which is longer than the specified 1\n",
      "Created a chunk of size 38, which is longer than the specified 1\n",
      "Created a chunk of size 40, which is longer than the specified 1\n",
      "Created a chunk of size 41, which is longer than the specified 1\n",
      "Created a chunk of size 38, which is longer than the specified 1\n",
      "Created a chunk of size 46, which is longer than the specified 1\n",
      "Created a chunk of size 36, which is longer than the specified 1\n",
      "Created a chunk of size 35, which is longer than the specified 1\n",
      "Created a chunk of size 45, which is longer than the specified 1\n",
      "Created a chunk of size 39, which is longer than the specified 1\n",
      "Created a chunk of size 47, which is longer than the specified 1\n",
      "Created a chunk of size 47, which is longer than the specified 1\n",
      "Created a chunk of size 43, which is longer than the specified 1\n"
     ]
    },
    {
     "data": {
      "text/plain": [
       "[Document(metadata={'source': '../docs/travel.txt'}, page_content='여행을 준비하는 방법은 무엇인가? 필요한 짐을 꾸리는 팁과 함께 여행의 기본 요소를 알아보자.'),\n",
       " Document(metadata={'source': '../docs/travel.txt'}, page_content='여행 가방을 꾸리는 노하우. 최소한의 짐으로 최대한의 효율을 내는 팁을 공유합니다.'),\n",
       " Document(metadata={'source': '../docs/travel.txt'}, page_content='효율적인 여행 계획 세우기. 예산을 절약하면서도 만족스러운 여행을 하는 방법.'),\n",
       " Document(metadata={'source': '../docs/travel.txt'}, page_content='여행 경로를 설계하는 법. 최적의 동선을 계획하여 피로도를 줄이는 방법을 소개합니다.'),\n",
       " Document(metadata={'source': '../docs/travel.txt'}, page_content='여행 일정 짜는 방법. 관광 명소를 효과적으로 방문하기 위한 스케줄링 팁.'),\n",
       " Document(metadata={'source': '../docs/travel.txt'}, page_content='여행지에서의 안전한 이동 수단. 대중교통과 렌터카, 어떤 것이 유리할까?.'),\n",
       " Document(metadata={'source': '../docs/travel.txt'}, page_content='여행 중 건강을 유지하는 법. 장거리 이동 시 피로를 줄이는 방법과 유용한 건강 팁.'),\n",
       " Document(metadata={'source': '../docs/travel.txt'}, page_content='여행 중 의사소통 팁. 현지 언어를 몰라도 효과적으로 소통하는 방법.'),\n",
       " Document(metadata={'source': '../docs/travel.txt'}, page_content='여행 예산을 절약하는 10가지 방법. 적은 비용으로 알차게 여행하는 법.'),\n",
       " Document(metadata={'source': '../docs/travel.txt'}, page_content='여행 중 음식 고르는 법. 지역 특산물을 즐기면서도 위생을 고려하는 요령.'),\n",
       " Document(metadata={'source': '../docs/travel.txt'}, page_content='배낭여행과 럭셔리 여행의 차이. 각각의 장점과 단점을 비교해 봅니다.'),\n",
       " Document(metadata={'source': '../docs/travel.txt'}, page_content='세계에서 가장 아름다운 해변 10선. 푸른 바다와 하얀 모래가 있는 최고의 여행지.'),\n",
       " Document(metadata={'source': '../docs/travel.txt'}, page_content='사막 여행의 매력. 광활한 사막에서 즐길 수 있는 색다른 경험들.'),\n",
       " Document(metadata={'source': '../docs/travel.txt'}, page_content='북극과 남극 여행 가이드. 극지방 탐험을 위한 준비와 주의사항.'),\n",
       " Document(metadata={'source': '../docs/travel.txt'}, page_content='유럽 기차 여행의 장점. 기차를 이용해 유럽 여러 나라를 편리하게 여행하는 방법.'),\n",
       " Document(metadata={'source': '../docs/travel.txt'}, page_content='일본 온천 여행의 즐거움. 온천 문화와 최고의 온천 명소를 소개합니다.'),\n",
       " Document(metadata={'source': '../docs/travel.txt'}, page_content='배낭여행자를 위한 추천 도시. 예산이 적어도 충분히 즐길 수 있는 세계 곳곳의 명소.'),\n",
       " Document(metadata={'source': '../docs/travel.txt'}, page_content='이색적인 숙소에서 머물기. 트리하우스, 동굴 호텔, 빙하 호텔 등 독특한 숙소 체험.'),\n",
       " Document(metadata={'source': '../docs/travel.txt'}, page_content='전 세계 축제를 즐기는 법. 카니발, 옥토버페스트 등 세계 각국의 축제 소개.'),\n",
       " Document(metadata={'source': '../docs/travel.txt'}, page_content='한적한 여행지 추천. 관광객이 몰리지 않는 조용하고 아름다운 여행지를 찾아보자.')]"
      ]
     },
     "execution_count": 5,
     "metadata": {},
     "output_type": "execute_result"
    }
   ],
   "source": [
    "from langchain_community.document_loaders import TextLoader\n",
    "from langchain_text_splitters import CharacterTextSplitter\n",
    "\n",
    "text_splitter = CharacterTextSplitter(\n",
    "    separator=\"\\n\",\n",
    "    chunk_size=1, # seperator로만 청크를 나누게 된다.\n",
    "    chunk_overlap=0\n",
    ")\n",
    "\n",
    "loader = TextLoader(\"../docs/travel.txt\", encoding=\"utf-8\")\n",
    "\n",
    "documents = loader.load_and_split(text_splitter=text_splitter)\n",
    "documents"
   ]
  },
  {
   "cell_type": "code",
   "execution_count": 6,
   "metadata": {},
   "outputs": [
    {
     "name": "stderr",
     "output_type": "stream",
     "text": [
      "Failed to send telemetry event ClientStartEvent: capture() takes 1 positional argument but 3 were given\n",
      "Failed to send telemetry event ClientCreateCollectionEvent: capture() takes 1 positional argument but 3 were given\n"
     ]
    }
   ],
   "source": [
    "from langchain_chroma import Chroma\n",
    "\n",
    "db = Chroma.from_documents(documents, hf_embeddings)"
   ]
  },
  {
   "cell_type": "code",
   "execution_count": 7,
   "metadata": {},
   "outputs": [],
   "source": [
    "retriever = db.as_retriever(\n",
    "    search_type=\"mmr\",\n",
    "    search_kwargs={\"k\":5, \"fetch_k\": 20, \"lambda_mult\": 0.5}\n",
    ")"
   ]
  },
  {
   "cell_type": "code",
   "execution_count": 8,
   "metadata": {},
   "outputs": [],
   "source": [
    "from langchain_core.prompts import ChatPromptTemplate\n",
    "message = \"\"\"\n",
    "Anser this question using the provided context only.\n",
    "아래 제공된 내용만 참고하여 사용자의 질문에 답변해줘. 모르면 솔직하게 그냥 모른다고 답해.\n",
    "\n",
    "Context:\n",
    "{context}\n",
    "\n",
    "User Import:\n",
    "{input}\n",
    "\"\"\"\n",
    "\n",
    "propmt_templte = ChatPromptTemplate.from_messages([\n",
    "    (\"human\", message)\n",
    "])"
   ]
  },
  {
   "cell_type": "code",
   "execution_count": 9,
   "metadata": {},
   "outputs": [
    {
     "name": "stderr",
     "output_type": "stream",
     "text": [
      "/Users/hong/.pyenv/versions/3.12.11/lib/python3.12/site-packages/langsmith/client.py:272: LangSmithMissingAPIKeyWarning: API key must be provided when using hosted LangSmith API\n",
      "  warnings.warn(\n"
     ]
    },
    {
     "data": {
      "text/plain": [
       "ChatPromptTemplate(input_variables=['context', 'input'], optional_variables=['chat_history'], input_types={'chat_history': list[typing.Annotated[typing.Union[typing.Annotated[langchain_core.messages.ai.AIMessage, Tag(tag='ai')], typing.Annotated[langchain_core.messages.human.HumanMessage, Tag(tag='human')], typing.Annotated[langchain_core.messages.chat.ChatMessage, Tag(tag='chat')], typing.Annotated[langchain_core.messages.system.SystemMessage, Tag(tag='system')], typing.Annotated[langchain_core.messages.function.FunctionMessage, Tag(tag='function')], typing.Annotated[langchain_core.messages.tool.ToolMessage, Tag(tag='tool')], typing.Annotated[langchain_core.messages.ai.AIMessageChunk, Tag(tag='AIMessageChunk')], typing.Annotated[langchain_core.messages.human.HumanMessageChunk, Tag(tag='HumanMessageChunk')], typing.Annotated[langchain_core.messages.chat.ChatMessageChunk, Tag(tag='ChatMessageChunk')], typing.Annotated[langchain_core.messages.system.SystemMessageChunk, Tag(tag='SystemMessageChunk')], typing.Annotated[langchain_core.messages.function.FunctionMessageChunk, Tag(tag='FunctionMessageChunk')], typing.Annotated[langchain_core.messages.tool.ToolMessageChunk, Tag(tag='ToolMessageChunk')]], FieldInfo(annotation=NoneType, required=True, discriminator=Discriminator(discriminator=<function _get_type at 0x11395b560>, custom_error_type=None, custom_error_message=None, custom_error_context=None))]]}, partial_variables={'chat_history': []}, metadata={'lc_hub_owner': 'langchain-ai', 'lc_hub_repo': 'retrieval-qa-chat', 'lc_hub_commit_hash': 'b60afb6297176b022244feb83066e10ecadcda7b90423654c4a9d45e7a73cebc'}, messages=[SystemMessagePromptTemplate(prompt=PromptTemplate(input_variables=['context'], input_types={}, partial_variables={}, template='Answer any use questions based solely on the context below:\\n\\n<context>\\n{context}\\n</context>'), additional_kwargs={}), MessagesPlaceholder(variable_name='chat_history', optional=True), HumanMessagePromptTemplate(prompt=PromptTemplate(input_variables=['input'], input_types={}, partial_variables={}, template='{input}'), additional_kwargs={})])"
      ]
     },
     "execution_count": 9,
     "metadata": {},
     "output_type": "execute_result"
    }
   ],
   "source": [
    "from langchain import hub\n",
    "propmt_templte = hub.pull(\"langchain-ai/retrieval-qa-chat\")\n",
    "propmt_templte"
   ]
  },
  {
   "cell_type": "code",
   "execution_count": 10,
   "metadata": {},
   "outputs": [],
   "source": [
    "from langchain_core.output_parsers import StrOutputParser\n",
    "parser = StrOutputParser()"
   ]
  },
  {
   "cell_type": "code",
   "execution_count": 12,
   "metadata": {},
   "outputs": [],
   "source": [
    "from langchain_core.runnables import RunnablePassthrough\n",
    "rag_chain = { \n",
    "    \"context\": retriever, # 사용자가 입력한 값을 토대로 검색된 내용을 넣음\n",
    "    \"input\": RunnablePassthrough() # 사용자 입력값을 그대로 넣는 객체\n",
    "} | propmt_templte | llm | parser\n",
    "\n",
    "# context = retriever.invoke(question)\n",
    "# input = RunnablePassthrough().invoke(question)"
   ]
  },
  {
   "cell_type": "code",
   "execution_count": null,
   "metadata": {},
   "outputs": [
    {
     "name": "stderr",
     "output_type": "stream",
     "text": [
      "Failed to send telemetry event CollectionQueryEvent: capture() takes 1 positional argument but 3 were given\n"
     ]
    },
    {
     "data": {
      "text/plain": [
       "'이색적인 숙소로는 트리하우스, 동굴 호텔, 빙하 호텔 등 독특한 숙소 경험을 제공하는 곳들이 있습니다.'"
      ]
     },
     "execution_count": 13,
     "metadata": {},
     "output_type": "execute_result"
    }
   ],
   "source": [
    "rag_chain.invoke(\"이색적인 숙소에는 어떤 곳이 있을까?\")"
   ]
  }
 ],
 "metadata": {
  "kernelspec": {
   "display_name": "3.12.11",
   "language": "python",
   "name": "python3"
  },
  "language_info": {
   "codemirror_mode": {
    "name": "ipython",
    "version": 3
   },
   "file_extension": ".py",
   "mimetype": "text/x-python",
   "name": "python",
   "nbconvert_exporter": "python",
   "pygments_lexer": "ipython3",
   "version": "3.12.11"
  }
 },
 "nbformat": 4,
 "nbformat_minor": 2
}
