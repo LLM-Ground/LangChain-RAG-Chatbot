{
 "cells": [
  {
   "cell_type": "code",
   "execution_count": 1,
   "metadata": {},
   "outputs": [
    {
     "name": "stderr",
     "output_type": "stream",
     "text": [
      "No sentence-transformers model found with name klue/bert-base. Creating a new one with mean pooling.\n"
     ]
    }
   ],
   "source": [
    "from langchain_huggingface import HuggingFaceEmbeddings\n",
    "\n",
    "model_name = \"klue/bert-base\" # korea embedding model\n",
    "hf_embeddings = HuggingFaceEmbeddings(model_name=model_name)"
   ]
  },
  {
   "cell_type": "code",
   "execution_count": 12,
   "metadata": {},
   "outputs": [
    {
     "name": "stderr",
     "output_type": "stream",
     "text": [
      "Failed to send telemetry event ClientStartEvent: capture() takes 1 positional argument but 3 were given\n",
      "Failed to send telemetry event ClientCreateCollectionEvent: capture() takes 1 positional argument but 3 were given\n"
     ]
    }
   ],
   "source": [
    "from langchain_chroma import Chroma\n",
    "\n",
    "db = Chroma(persist_directory=\"./news_chroma_db\", embedding_function=hf_embeddings)"
   ]
  },
  {
   "cell_type": "code",
   "execution_count": null,
   "metadata": {},
   "outputs": [
    {
     "name": "stderr",
     "output_type": "stream",
     "text": [
      "Failed to send telemetry event CollectionQueryEvent: capture() takes 1 positional argument but 3 were given\n"
     ]
    },
    {
     "data": {
      "text/plain": [
       "[Document(id='28d857be-e1be-4810-a61d-9daab32ccf4f', metadata={'source': '../docs/news.txt'}, page_content='경제 : 세계적인 인플레이션 압박으로 각국 중앙은행들이 금리 인상에 나섰습니다. 특히 미국 연방준비제도는 예상보다 더 강력한 금리 인상을 단행하며 시장에 충격을 주었습니다. 이로 인해 주식과 채권 시장에서 대규모 매도세가 발생했습니다.'),\n",
       " Document(id='54beead0-3570-4af5-8694-f79dbb760202', metadata={'source': '../docs/news.txt'}, page_content='정치 : 최근 대선 후보 토론에서 양당의 입장이 강하게 충돌했습니다. 후보들은 세금 정책과 사회 복지 확대 여부를 두고 팽팽한 신경전을 벌였습니다. 전문가들은 이번 선거가 향후 10년간 정치 지형을 크게 변화시킬 것이라고 전망합니다.'),\n",
       " Document(id='4c72beb8-5c22-4985-9ff3-aeecb3ff69e9', metadata={'source': '../docs/news.txt'}, page_content='보건 : 최근 신종 바이러스의 확산이 일부 국가에서 급격히 증가하고 있습니다. 이에 따라 각국 정부는 예방접종 캠페인과 함께 강력한 방역 조치를 시행하고 있습니다. 보건 전문가들은 지속적인 모니터링과 빠른 대응이 필요하다고 강조하고 있습니다.'),\n",
       " Document(id='cb81dd08-1f0c-47d0-a99e-08a22832e850', metadata={'source': '../docs/news.txt'}, page_content='국제 : 아시아-태평양 지역에서의 경제 협력이 강화되고 있습니다. 주요 국가들은 무역 장벽을 낮추고 공동 개발 프로젝트를 추진하며 상호 이익을 추구하고 있습니다. 그러나 중국과 미국 간의 갈등이 여전히 지역 안정에 큰 변수로 작용하고 있습니다.')]"
      ]
     },
     "execution_count": 13,
     "metadata": {},
     "output_type": "execute_result"
    }
   ],
   "source": [
    "retriever = db.as_retriever()\n",
    "\n",
    "result = retriever.invoke(\"각국 중앙은행들의 금리 인상 이유는?\", )\n",
    "result"
   ]
  },
  {
   "cell_type": "code",
   "execution_count": 15,
   "metadata": {},
   "outputs": [
    {
     "data": {
      "text/plain": [
       "[Document(id='28d857be-e1be-4810-a61d-9daab32ccf4f', metadata={'source': '../docs/news.txt'}, page_content='경제 : 세계적인 인플레이션 압박으로 각국 중앙은행들이 금리 인상에 나섰습니다. 특히 미국 연방준비제도는 예상보다 더 강력한 금리 인상을 단행하며 시장에 충격을 주었습니다. 이로 인해 주식과 채권 시장에서 대규모 매도세가 발생했습니다.'),\n",
       " Document(id='54beead0-3570-4af5-8694-f79dbb760202', metadata={'source': '../docs/news.txt'}, page_content='정치 : 최근 대선 후보 토론에서 양당의 입장이 강하게 충돌했습니다. 후보들은 세금 정책과 사회 복지 확대 여부를 두고 팽팽한 신경전을 벌였습니다. 전문가들은 이번 선거가 향후 10년간 정치 지형을 크게 변화시킬 것이라고 전망합니다.')]"
      ]
     },
     "execution_count": 15,
     "metadata": {},
     "output_type": "execute_result"
    }
   ],
   "source": [
    "retriever = db.as_retriever(search_kwargs={\"k\": 2})\n",
    "result = retriever.invoke(\"각국 중앙은행들의 금리 인상 이유는?\", )\n",
    "result"
   ]
  },
  {
   "cell_type": "code",
   "execution_count": 30,
   "metadata": {},
   "outputs": [
    {
     "name": "stderr",
     "output_type": "stream",
     "text": [
      "/var/folders/s0/t1gwrqs52wx6469pfqnx17980000gn/T/ipykernel_70169/830072655.py:1: UserWarning: Relevance scores must be between 0 and 1, got [(Document(id='57766568-8103-4d16-b3b1-1a04df81a030', metadata={'source': '../docs/news.txt'}, page_content='환경 : 지구 온난화로 인한 극단적인 기후 변화가 전 세계적으로 심각한 피해를 초래하고 있습니다. 북극 해빙이 급격히 녹고 있으며, 이로 인해 해수면 상승이 가속화되고 있습니다. 환경 단체들은 즉각적인 탄소 배출 감축이 필요하다고 경고하고 있습니다.'), -111.60265699821173), (Document(id='2bf41fc3-cfa1-44cb-af74-bee3773d453c', metadata={'source': '../docs/news.txt'}, page_content='사회 : 최근 젊은 층 사이에서 미니멀리즘 라이프스타일이 인기를 끌고 있습니다. 불필요한 물건을 줄이고 필수품만을 소유하는 이 방식은 스트레스 감소와 심리적 안정에 도움을 준다고 알려져 있습니다. 이에 따라 관련 제품과 서비스 시장도 확대되고 있습니다.'), -118.06176528397313), (Document(id='2f647191-748e-4730-b53b-73375b8256c8', metadata={'source': '../docs/news.txt'}, page_content='문화 : 전통 예술과 현대 기술이 결합된 새로운 형태의 공연 예술이 인기를 끌고 있습니다. 디지털 기술을 활용한 무대 연출과 실시간 인터랙티브 요소가 관객의 몰입감을 높이고 있습니다. 이 같은 시도가 예술계에 신선한 변화를 가져오고 있습니다.'), -125.96098972512632), (Document(id='dd079b9c-abda-464a-b14b-91bb0b50d273', metadata={'source': '../docs/news.txt'}, page_content='기술 : 인공지능(AI) 기반 번역 서비스가 급속도로 발전하면서 글로벌 소통의 장벽이 낮아지고 있습니다. 최근 출시된 AI 번역기는 실시간으로 음성을 번역해주는 기능을 제공하며, 다양한 언어를 지원합니다. 이에 따라 다국적 비즈니스와 국제 회의의 효율성이 크게 향상될 것으로 보입니다.'), -128.05909815231124)]\n",
      "  result = db.similarity_search_with_relevance_scores(\"해수면이 높아지는 이유는?\")\n"
     ]
    },
    {
     "data": {
      "text/plain": [
       "[(Document(id='57766568-8103-4d16-b3b1-1a04df81a030', metadata={'source': '../docs/news.txt'}, page_content='환경 : 지구 온난화로 인한 극단적인 기후 변화가 전 세계적으로 심각한 피해를 초래하고 있습니다. 북극 해빙이 급격히 녹고 있으며, 이로 인해 해수면 상승이 가속화되고 있습니다. 환경 단체들은 즉각적인 탄소 배출 감축이 필요하다고 경고하고 있습니다.'),\n",
       "  -111.60265699821173),\n",
       " (Document(id='2bf41fc3-cfa1-44cb-af74-bee3773d453c', metadata={'source': '../docs/news.txt'}, page_content='사회 : 최근 젊은 층 사이에서 미니멀리즘 라이프스타일이 인기를 끌고 있습니다. 불필요한 물건을 줄이고 필수품만을 소유하는 이 방식은 스트레스 감소와 심리적 안정에 도움을 준다고 알려져 있습니다. 이에 따라 관련 제품과 서비스 시장도 확대되고 있습니다.'),\n",
       "  -118.06176528397313),\n",
       " (Document(id='2f647191-748e-4730-b53b-73375b8256c8', metadata={'source': '../docs/news.txt'}, page_content='문화 : 전통 예술과 현대 기술이 결합된 새로운 형태의 공연 예술이 인기를 끌고 있습니다. 디지털 기술을 활용한 무대 연출과 실시간 인터랙티브 요소가 관객의 몰입감을 높이고 있습니다. 이 같은 시도가 예술계에 신선한 변화를 가져오고 있습니다.'),\n",
       "  -125.96098972512632),\n",
       " (Document(id='dd079b9c-abda-464a-b14b-91bb0b50d273', metadata={'source': '../docs/news.txt'}, page_content='기술 : 인공지능(AI) 기반 번역 서비스가 급속도로 발전하면서 글로벌 소통의 장벽이 낮아지고 있습니다. 최근 출시된 AI 번역기는 실시간으로 음성을 번역해주는 기능을 제공하며, 다양한 언어를 지원합니다. 이에 따라 다국적 비즈니스와 국제 회의의 효율성이 크게 향상될 것으로 보입니다.'),\n",
       "  -128.05909815231124)]"
      ]
     },
     "execution_count": 30,
     "metadata": {},
     "output_type": "execute_result"
    }
   ],
   "source": [
    "result = db.similarity_search_with_relevance_scores(\"해수면이 높아지는 이유는?\")\n",
    "result"
   ]
  },
  {
   "cell_type": "code",
   "execution_count": 35,
   "metadata": {},
   "outputs": [
    {
     "name": "stderr",
     "output_type": "stream",
     "text": [
      "/Users/hong/.pyenv/versions/3.12.11/lib/python3.12/site-packages/langchain_core/vectorstores/base.py:1083: UserWarning: Relevance scores must be between 0 and 1, got [(Document(id='57766568-8103-4d16-b3b1-1a04df81a030', metadata={'source': '../docs/news.txt'}, page_content='환경 : 지구 온난화로 인한 극단적인 기후 변화가 전 세계적으로 심각한 피해를 초래하고 있습니다. 북극 해빙이 급격히 녹고 있으며, 이로 인해 해수면 상승이 가속화되고 있습니다. 환경 단체들은 즉각적인 탄소 배출 감축이 필요하다고 경고하고 있습니다.'), -111.60265699821173), (Document(id='2bf41fc3-cfa1-44cb-af74-bee3773d453c', metadata={'source': '../docs/news.txt'}, page_content='사회 : 최근 젊은 층 사이에서 미니멀리즘 라이프스타일이 인기를 끌고 있습니다. 불필요한 물건을 줄이고 필수품만을 소유하는 이 방식은 스트레스 감소와 심리적 안정에 도움을 준다고 알려져 있습니다. 이에 따라 관련 제품과 서비스 시장도 확대되고 있습니다.'), -118.06176528397313), (Document(id='2f647191-748e-4730-b53b-73375b8256c8', metadata={'source': '../docs/news.txt'}, page_content='문화 : 전통 예술과 현대 기술이 결합된 새로운 형태의 공연 예술이 인기를 끌고 있습니다. 디지털 기술을 활용한 무대 연출과 실시간 인터랙티브 요소가 관객의 몰입감을 높이고 있습니다. 이 같은 시도가 예술계에 신선한 변화를 가져오고 있습니다.'), -125.96098972512632), (Document(id='dd079b9c-abda-464a-b14b-91bb0b50d273', metadata={'source': '../docs/news.txt'}, page_content='기술 : 인공지능(AI) 기반 번역 서비스가 급속도로 발전하면서 글로벌 소통의 장벽이 낮아지고 있습니다. 최근 출시된 AI 번역기는 실시간으로 음성을 번역해주는 기능을 제공하며, 다양한 언어를 지원합니다. 이에 따라 다국적 비즈니스와 국제 회의의 효율성이 크게 향상될 것으로 보입니다.'), -128.05909815231124)]\n",
      "  self.vectorstore.similarity_search_with_relevance_scores(\n",
      "No relevant docs were retrieved using the relevance score threshold 0.25\n"
     ]
    },
    {
     "data": {
      "text/plain": [
       "[]"
      ]
     },
     "execution_count": 35,
     "metadata": {},
     "output_type": "execute_result"
    }
   ],
   "source": [
    "retriever = db.as_retriever(\n",
    "    search_type=\"similarity_score_threshold\",\n",
    "    search_kwargs={\"score_threshold\": 0.25} # 찾기 원하는 기준이 되는 점수\n",
    ")\n",
    "\n",
    "result = retriever.invoke(\"해수면이 높아지는 이유는?\")\n",
    "result"
   ]
  },
  {
   "cell_type": "code",
   "execution_count": 65,
   "metadata": {},
   "outputs": [
    {
     "name": "stderr",
     "output_type": "stream",
     "text": [
      "Created a chunk of size 52, which is longer than the specified 20\n",
      "Created a chunk of size 46, which is longer than the specified 20\n",
      "Created a chunk of size 43, which is longer than the specified 20\n",
      "Created a chunk of size 47, which is longer than the specified 20\n",
      "Created a chunk of size 41, which is longer than the specified 20\n",
      "Created a chunk of size 41, which is longer than the specified 20\n",
      "Created a chunk of size 47, which is longer than the specified 20\n",
      "Created a chunk of size 38, which is longer than the specified 20\n",
      "Created a chunk of size 40, which is longer than the specified 20\n",
      "Created a chunk of size 41, which is longer than the specified 20\n",
      "Created a chunk of size 38, which is longer than the specified 20\n",
      "Created a chunk of size 46, which is longer than the specified 20\n",
      "Created a chunk of size 36, which is longer than the specified 20\n",
      "Created a chunk of size 35, which is longer than the specified 20\n",
      "Created a chunk of size 45, which is longer than the specified 20\n",
      "Created a chunk of size 39, which is longer than the specified 20\n",
      "Created a chunk of size 47, which is longer than the specified 20\n",
      "Created a chunk of size 47, which is longer than the specified 20\n",
      "Created a chunk of size 43, which is longer than the specified 20\n"
     ]
    },
    {
     "data": {
      "text/plain": [
       "[Document(metadata={'source': '../docs/travel.txt'}, page_content='여행을 준비하는 방법은 무엇인가? 필요한 짐을 꾸리는 팁과 함께 여행의 기본 요소를 알아보자.'),\n",
       " Document(metadata={'source': '../docs/travel.txt'}, page_content='여행 가방을 꾸리는 노하우. 최소한의 짐으로 최대한의 효율을 내는 팁을 공유합니다.'),\n",
       " Document(metadata={'source': '../docs/travel.txt'}, page_content='효율적인 여행 계획 세우기. 예산을 절약하면서도 만족스러운 여행을 하는 방법.'),\n",
       " Document(metadata={'source': '../docs/travel.txt'}, page_content='여행 경로를 설계하는 법. 최적의 동선을 계획하여 피로도를 줄이는 방법을 소개합니다.'),\n",
       " Document(metadata={'source': '../docs/travel.txt'}, page_content='여행 일정 짜는 방법. 관광 명소를 효과적으로 방문하기 위한 스케줄링 팁.'),\n",
       " Document(metadata={'source': '../docs/travel.txt'}, page_content='여행지에서의 안전한 이동 수단. 대중교통과 렌터카, 어떤 것이 유리할까?.'),\n",
       " Document(metadata={'source': '../docs/travel.txt'}, page_content='여행 중 건강을 유지하는 법. 장거리 이동 시 피로를 줄이는 방법과 유용한 건강 팁.'),\n",
       " Document(metadata={'source': '../docs/travel.txt'}, page_content='여행 중 의사소통 팁. 현지 언어를 몰라도 효과적으로 소통하는 방법.'),\n",
       " Document(metadata={'source': '../docs/travel.txt'}, page_content='여행 예산을 절약하는 10가지 방법. 적은 비용으로 알차게 여행하는 법.'),\n",
       " Document(metadata={'source': '../docs/travel.txt'}, page_content='여행 중 음식 고르는 법. 지역 특산물을 즐기면서도 위생을 고려하는 요령.'),\n",
       " Document(metadata={'source': '../docs/travel.txt'}, page_content='배낭여행과 럭셔리 여행의 차이. 각각의 장점과 단점을 비교해 봅니다.'),\n",
       " Document(metadata={'source': '../docs/travel.txt'}, page_content='세계에서 가장 아름다운 해변 10선. 푸른 바다와 하얀 모래가 있는 최고의 여행지.'),\n",
       " Document(metadata={'source': '../docs/travel.txt'}, page_content='사막 여행의 매력. 광활한 사막에서 즐길 수 있는 색다른 경험들.'),\n",
       " Document(metadata={'source': '../docs/travel.txt'}, page_content='북극과 남극 여행 가이드. 극지방 탐험을 위한 준비와 주의사항.'),\n",
       " Document(metadata={'source': '../docs/travel.txt'}, page_content='유럽 기차 여행의 장점. 기차를 이용해 유럽 여러 나라를 편리하게 여행하는 방법.'),\n",
       " Document(metadata={'source': '../docs/travel.txt'}, page_content='일본 온천 여행의 즐거움. 온천 문화와 최고의 온천 명소를 소개합니다.'),\n",
       " Document(metadata={'source': '../docs/travel.txt'}, page_content='배낭여행자를 위한 추천 도시. 예산이 적어도 충분히 즐길 수 있는 세계 곳곳의 명소.'),\n",
       " Document(metadata={'source': '../docs/travel.txt'}, page_content='이색적인 숙소에서 머물기. 트리하우스, 동굴 호텔, 빙하 호텔 등 독특한 숙소 체험.'),\n",
       " Document(metadata={'source': '../docs/travel.txt'}, page_content='전 세계 축제를 즐기는 법. 카니발, 옥토버페스트 등 세계 각국의 축제 소개.'),\n",
       " Document(metadata={'source': '../docs/travel.txt'}, page_content='한적한 여행지 추천. 관광객이 몰리지 않는 조용하고 아름다운 여행지를 찾아보자.')]"
      ]
     },
     "execution_count": 65,
     "metadata": {},
     "output_type": "execute_result"
    }
   ],
   "source": [
    "from langchain_community.document_loaders import TextLoader\n",
    "from langchain_text_splitters import CharacterTextSplitter\n",
    "\n",
    "text_splitter = CharacterTextSplitter(\n",
    "    separator=\"\\n\",\n",
    "    chunk_size=20, # seperator로만 청크를 나누게 된다.\n",
    "    chunk_overlap=0\n",
    ")\n",
    "\n",
    "loader = TextLoader(\"../docs/travel.txt\", encoding=\"utf-8\")\n",
    "\n",
    "documents = loader.load_and_split(text_splitter=text_splitter)\n",
    "documents"
   ]
  },
  {
   "cell_type": "code",
   "execution_count": 76,
   "metadata": {},
   "outputs": [
    {
     "name": "stderr",
     "output_type": "stream",
     "text": [
      "Failed to send telemetry event ClientStartEvent: capture() takes 1 positional argument but 3 were given\n",
      "Failed to send telemetry event ClientCreateCollectionEvent: capture() takes 1 positional argument but 3 were given\n"
     ]
    }
   ],
   "source": [
    "db = Chroma.from_documents(documents=documents, embedding= hf_embeddings)\n",
    "\n",
    "retriever = db.as_retriever()"
   ]
  },
  {
   "cell_type": "code",
   "execution_count": 77,
   "metadata": {},
   "outputs": [
    {
     "data": {
      "text/plain": [
       "[Document(id='8e77c11e-c85a-4899-a1f1-5bdfe197c11e', metadata={'source': '../docs/travel.txt'}, page_content='여행 예산을 절약하는 10가지 방법. 적은 비용으로 알차게 여행하는 법.'),\n",
       " Document(id='041d1e4d-24d3-4270-9856-223aef0840db', metadata={'source': '../docs/travel.txt'}, page_content='여행 예산을 절약하는 10가지 방법. 적은 비용으로 알차게 여행하는 법.'),\n",
       " Document(id='893d2dd1-3c13-4eaa-9fdd-dd7c1a666cee', metadata={'source': '../docs/travel.txt'}, page_content='효율적인 여행 계획 세우기. 예산을 절약하면서도 만족스러운 여행을 하는 방법.'),\n",
       " Document(id='fb1e094d-b735-4ddf-a45e-b0e066810e18', metadata={'source': '../docs/travel.txt'}, page_content='효율적인 여행 계획 세우기. 예산을 절약하면서도 만족스러운 여행을 하는 방법.')]"
      ]
     },
     "execution_count": 77,
     "metadata": {},
     "output_type": "execute_result"
    }
   ],
   "source": [
    "result = retriever.invoke(\"이색적인 여행 방법과 예산 절약 팁\")\n",
    "result"
   ]
  },
  {
   "cell_type": "code",
   "execution_count": 79,
   "metadata": {},
   "outputs": [],
   "source": [
    "# mmr: Maximal Marginal Relevance\n",
    "retriever = db.as_retriever(\n",
    "    search_type=\"mmr\",\n",
    "    search_kwargs={\"k\": 5, \"fetch_k\": 20, \"lambda_mult\": 0.15}\n",
    ")"
   ]
  },
  {
   "cell_type": "code",
   "execution_count": 80,
   "metadata": {},
   "outputs": [
    {
     "data": {
      "text/plain": [
       "[Document(id='8e77c11e-c85a-4899-a1f1-5bdfe197c11e', metadata={'source': '../docs/travel.txt'}, page_content='여행 예산을 절약하는 10가지 방법. 적은 비용으로 알차게 여행하는 법.'),\n",
       " Document(id='893d2dd1-3c13-4eaa-9fdd-dd7c1a666cee', metadata={'source': '../docs/travel.txt'}, page_content='효율적인 여행 계획 세우기. 예산을 절약하면서도 만족스러운 여행을 하는 방법.'),\n",
       " Document(id='b2b2d585-a09f-428c-8d35-3c746c32220b', metadata={'source': '../docs/travel.txt'}, page_content='여행 일정 짜는 방법. 관광 명소를 효과적으로 방문하기 위한 스케줄링 팁.'),\n",
       " Document(id='c96c69cb-d5de-4ec7-9af5-696cc699ec1f', metadata={'source': '../docs/travel.txt'}, page_content='여행 가방을 꾸리는 노하우. 최소한의 짐으로 최대한의 효율을 내는 팁을 공유합니다.'),\n",
       " Document(id='9010c152-a5cb-4b94-8087-e24c2f23aca3', metadata={'source': '../docs/travel.txt'}, page_content='사막 여행의 매력. 광활한 사막에서 즐길 수 있는 색다른 경험들.\\n북극과 남극 여행 가이드. 극지방 탐험을 위한 준비와 주의사항.\\n유럽 기차 여행의 장점. 기차를 이용해 유럽 여러 나라를 편리하게 여행하는 방법.\\n일본 온천 여행의 즐거움. 온천 문화와 최고의 온천 명소를 소개합니다.')]"
      ]
     },
     "execution_count": 80,
     "metadata": {},
     "output_type": "execute_result"
    }
   ],
   "source": [
    "result = retriever.invoke(\"이색적인 여행 방법과 예산 절약 팁\")\n",
    "result"
   ]
  }
 ],
 "metadata": {
  "kernelspec": {
   "display_name": "3.12.11",
   "language": "python",
   "name": "python3"
  },
  "language_info": {
   "codemirror_mode": {
    "name": "ipython",
    "version": 3
   },
   "file_extension": ".py",
   "mimetype": "text/x-python",
   "name": "python",
   "nbconvert_exporter": "python",
   "pygments_lexer": "ipython3",
   "version": "3.12.11"
  }
 },
 "nbformat": 4,
 "nbformat_minor": 2
}
