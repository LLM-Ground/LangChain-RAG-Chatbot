{
 "cells": [
  {
   "cell_type": "code",
   "execution_count": 2,
   "id": "942f5892",
   "metadata": {},
   "outputs": [
    {
     "name": "stdout",
     "output_type": "stream",
     "text": [
      "Collecting langchain_community==0.3.18\n",
      "  Downloading langchain_community-0.3.18-py3-none-any.whl.metadata (2.4 kB)\n",
      "Requirement already satisfied: langchain-core<1.0.0,>=0.3.37 in c:\\users\\최민재\\appdata\\local\\programs\\python\\python312\\lib\\site-packages (from langchain_community==0.3.18) (0.3.74)\n",
      "Collecting langchain<1.0.0,>=0.3.19 (from langchain_community==0.3.18)\n",
      "  Downloading langchain-0.3.27-py3-none-any.whl.metadata (7.8 kB)\n",
      "Collecting SQLAlchemy<3,>=1.4 (from langchain_community==0.3.18)\n",
      "  Downloading sqlalchemy-2.0.43-cp312-cp312-win_amd64.whl.metadata (9.8 kB)\n",
      "Requirement already satisfied: requests<3,>=2 in c:\\users\\최민재\\appdata\\local\\programs\\python\\python312\\lib\\site-packages (from langchain_community==0.3.18) (2.32.4)\n",
      "Requirement already satisfied: PyYAML>=5.3 in c:\\users\\최민재\\appdata\\local\\programs\\python\\python312\\lib\\site-packages (from langchain_community==0.3.18) (6.0.2)\n",
      "Collecting aiohttp<4.0.0,>=3.8.3 (from langchain_community==0.3.18)\n",
      "  Downloading aiohttp-3.12.15-cp312-cp312-win_amd64.whl.metadata (7.9 kB)\n",
      "Requirement already satisfied: tenacity!=8.4.0,<10,>=8.1.0 in c:\\users\\최민재\\appdata\\local\\programs\\python\\python312\\lib\\site-packages (from langchain_community==0.3.18) (9.1.2)\n",
      "Collecting dataclasses-json<0.7,>=0.5.7 (from langchain_community==0.3.18)\n",
      "  Downloading dataclasses_json-0.6.7-py3-none-any.whl.metadata (25 kB)\n",
      "Collecting pydantic-settings<3.0.0,>=2.4.0 (from langchain_community==0.3.18)\n",
      "  Downloading pydantic_settings-2.10.1-py3-none-any.whl.metadata (3.4 kB)\n",
      "Collecting langsmith<0.4,>=0.1.125 (from langchain_community==0.3.18)\n",
      "  Downloading langsmith-0.3.45-py3-none-any.whl.metadata (15 kB)\n",
      "Collecting httpx-sse<1.0.0,>=0.4.0 (from langchain_community==0.3.18)\n",
      "  Downloading httpx_sse-0.4.1-py3-none-any.whl.metadata (9.4 kB)\n",
      "Collecting numpy<3,>=1.26.2 (from langchain_community==0.3.18)\n",
      "  Downloading numpy-2.3.2-cp312-cp312-win_amd64.whl.metadata (60 kB)\n",
      "     ---------------------------------------- 0.0/60.9 kB ? eta -:--:--\n",
      "     ---------------------------------------- 60.9/60.9 kB 3.4 MB/s eta 0:00:00\n",
      "Collecting aiohappyeyeballs>=2.5.0 (from aiohttp<4.0.0,>=3.8.3->langchain_community==0.3.18)\n",
      "  Downloading aiohappyeyeballs-2.6.1-py3-none-any.whl.metadata (5.9 kB)\n",
      "Collecting aiosignal>=1.4.0 (from aiohttp<4.0.0,>=3.8.3->langchain_community==0.3.18)\n",
      "  Downloading aiosignal-1.4.0-py3-none-any.whl.metadata (3.7 kB)\n",
      "Collecting attrs>=17.3.0 (from aiohttp<4.0.0,>=3.8.3->langchain_community==0.3.18)\n",
      "  Downloading attrs-25.3.0-py3-none-any.whl.metadata (10 kB)\n",
      "Collecting frozenlist>=1.1.1 (from aiohttp<4.0.0,>=3.8.3->langchain_community==0.3.18)\n",
      "  Downloading frozenlist-1.7.0-cp312-cp312-win_amd64.whl.metadata (19 kB)\n",
      "Collecting multidict<7.0,>=4.5 (from aiohttp<4.0.0,>=3.8.3->langchain_community==0.3.18)\n",
      "  Downloading multidict-6.6.4-cp312-cp312-win_amd64.whl.metadata (5.4 kB)\n",
      "Collecting propcache>=0.2.0 (from aiohttp<4.0.0,>=3.8.3->langchain_community==0.3.18)\n",
      "  Downloading propcache-0.3.2-cp312-cp312-win_amd64.whl.metadata (12 kB)\n",
      "Collecting yarl<2.0,>=1.17.0 (from aiohttp<4.0.0,>=3.8.3->langchain_community==0.3.18)\n",
      "  Downloading yarl-1.20.1-cp312-cp312-win_amd64.whl.metadata (76 kB)\n",
      "     ---------------------------------------- 0.0/76.3 kB ? eta -:--:--\n",
      "     ------------------------------------- -- 71.7/76.3 kB ? eta -:--:--\n",
      "     ---------------------------------------- 76.3/76.3 kB 2.1 MB/s eta 0:00:00\n",
      "Collecting marshmallow<4.0.0,>=3.18.0 (from dataclasses-json<0.7,>=0.5.7->langchain_community==0.3.18)\n",
      "  Downloading marshmallow-3.26.1-py3-none-any.whl.metadata (7.3 kB)\n",
      "Collecting typing-inspect<1,>=0.4.0 (from dataclasses-json<0.7,>=0.5.7->langchain_community==0.3.18)\n",
      "  Downloading typing_inspect-0.9.0-py3-none-any.whl.metadata (1.5 kB)\n",
      "Collecting langchain-text-splitters<1.0.0,>=0.3.9 (from langchain<1.0.0,>=0.3.19->langchain_community==0.3.18)\n",
      "  Downloading langchain_text_splitters-0.3.9-py3-none-any.whl.metadata (1.9 kB)\n",
      "Requirement already satisfied: pydantic<3.0.0,>=2.7.4 in c:\\users\\최민재\\appdata\\local\\programs\\python\\python312\\lib\\site-packages (from langchain<1.0.0,>=0.3.19->langchain_community==0.3.18) (2.11.7)\n",
      "Requirement already satisfied: jsonpatch<2.0,>=1.33 in c:\\users\\최민재\\appdata\\local\\programs\\python\\python312\\lib\\site-packages (from langchain-core<1.0.0,>=0.3.37->langchain_community==0.3.18) (1.33)\n",
      "Requirement already satisfied: typing-extensions>=4.7 in c:\\users\\최민재\\appdata\\local\\programs\\python\\python312\\lib\\site-packages (from langchain-core<1.0.0,>=0.3.37->langchain_community==0.3.18) (4.14.1)\n",
      "Requirement already satisfied: packaging>=23.2 in c:\\users\\최민재\\appdata\\local\\programs\\python\\python312\\lib\\site-packages (from langchain-core<1.0.0,>=0.3.37->langchain_community==0.3.18) (25.0)\n",
      "Requirement already satisfied: httpx<1,>=0.23.0 in c:\\users\\최민재\\appdata\\local\\programs\\python\\python312\\lib\\site-packages (from langsmith<0.4,>=0.1.125->langchain_community==0.3.18) (0.28.1)\n",
      "Requirement already satisfied: orjson<4.0.0,>=3.9.14 in c:\\users\\최민재\\appdata\\local\\programs\\python\\python312\\lib\\site-packages (from langsmith<0.4,>=0.1.125->langchain_community==0.3.18) (3.11.1)\n",
      "Requirement already satisfied: requests-toolbelt<2.0.0,>=1.0.0 in c:\\users\\최민재\\appdata\\local\\programs\\python\\python312\\lib\\site-packages (from langsmith<0.4,>=0.1.125->langchain_community==0.3.18) (1.0.0)\n",
      "Requirement already satisfied: zstandard<0.24.0,>=0.23.0 in c:\\users\\최민재\\appdata\\local\\programs\\python\\python312\\lib\\site-packages (from langsmith<0.4,>=0.1.125->langchain_community==0.3.18) (0.23.0)\n",
      "Requirement already satisfied: python-dotenv>=0.21.0 in c:\\users\\최민재\\appdata\\local\\programs\\python\\python312\\lib\\site-packages (from pydantic-settings<3.0.0,>=2.4.0->langchain_community==0.3.18) (1.1.1)\n",
      "Requirement already satisfied: typing-inspection>=0.4.0 in c:\\users\\최민재\\appdata\\local\\programs\\python\\python312\\lib\\site-packages (from pydantic-settings<3.0.0,>=2.4.0->langchain_community==0.3.18) (0.4.1)\n",
      "Requirement already satisfied: charset_normalizer<4,>=2 in c:\\users\\최민재\\appdata\\local\\programs\\python\\python312\\lib\\site-packages (from requests<3,>=2->langchain_community==0.3.18) (3.4.3)\n",
      "Requirement already satisfied: idna<4,>=2.5 in c:\\users\\최민재\\appdata\\local\\programs\\python\\python312\\lib\\site-packages (from requests<3,>=2->langchain_community==0.3.18) (3.10)\n",
      "Requirement already satisfied: urllib3<3,>=1.21.1 in c:\\users\\최민재\\appdata\\local\\programs\\python\\python312\\lib\\site-packages (from requests<3,>=2->langchain_community==0.3.18) (2.5.0)\n",
      "Requirement already satisfied: certifi>=2017.4.17 in c:\\users\\최민재\\appdata\\local\\programs\\python\\python312\\lib\\site-packages (from requests<3,>=2->langchain_community==0.3.18) (2025.8.3)\n",
      "Collecting greenlet>=1 (from SQLAlchemy<3,>=1.4->langchain_community==0.3.18)\n",
      "  Downloading greenlet-3.2.4-cp312-cp312-win_amd64.whl.metadata (4.2 kB)\n",
      "Requirement already satisfied: anyio in c:\\users\\최민재\\appdata\\local\\programs\\python\\python312\\lib\\site-packages (from httpx<1,>=0.23.0->langsmith<0.4,>=0.1.125->langchain_community==0.3.18) (4.10.0)\n",
      "Requirement already satisfied: httpcore==1.* in c:\\users\\최민재\\appdata\\local\\programs\\python\\python312\\lib\\site-packages (from httpx<1,>=0.23.0->langsmith<0.4,>=0.1.125->langchain_community==0.3.18) (1.0.9)\n",
      "Requirement already satisfied: h11>=0.16 in c:\\users\\최민재\\appdata\\local\\programs\\python\\python312\\lib\\site-packages (from httpcore==1.*->httpx<1,>=0.23.0->langsmith<0.4,>=0.1.125->langchain_community==0.3.18) (0.16.0)\n",
      "Requirement already satisfied: jsonpointer>=1.9 in c:\\users\\최민재\\appdata\\local\\programs\\python\\python312\\lib\\site-packages (from jsonpatch<2.0,>=1.33->langchain-core<1.0.0,>=0.3.37->langchain_community==0.3.18) (3.0.0)\n",
      "Requirement already satisfied: annotated-types>=0.6.0 in c:\\users\\최민재\\appdata\\local\\programs\\python\\python312\\lib\\site-packages (from pydantic<3.0.0,>=2.7.4->langchain<1.0.0,>=0.3.19->langchain_community==0.3.18) (0.7.0)\n",
      "Requirement already satisfied: pydantic-core==2.33.2 in c:\\users\\최민재\\appdata\\local\\programs\\python\\python312\\lib\\site-packages (from pydantic<3.0.0,>=2.7.4->langchain<1.0.0,>=0.3.19->langchain_community==0.3.18) (2.33.2)\n",
      "Collecting mypy-extensions>=0.3.0 (from typing-inspect<1,>=0.4.0->dataclasses-json<0.7,>=0.5.7->langchain_community==0.3.18)\n",
      "  Downloading mypy_extensions-1.1.0-py3-none-any.whl.metadata (1.1 kB)\n",
      "Requirement already satisfied: sniffio>=1.1 in c:\\users\\최민재\\appdata\\local\\programs\\python\\python312\\lib\\site-packages (from anyio->httpx<1,>=0.23.0->langsmith<0.4,>=0.1.125->langchain_community==0.3.18) (1.3.1)\n",
      "Downloading langchain_community-0.3.18-py3-none-any.whl (2.5 MB)\n",
      "   ---------------------------------------- 0.0/2.5 MB ? eta -:--:--\n",
      "   ---------- ----------------------------- 0.7/2.5 MB 13.7 MB/s eta 0:00:01\n",
      "   -------------------------------- ------- 2.1/2.5 MB 26.5 MB/s eta 0:00:01\n",
      "   ---------------------------------------  2.5/2.5 MB 26.7 MB/s eta 0:00:01\n",
      "   ---------------------------------------- 2.5/2.5 MB 17.9 MB/s eta 0:00:00\n",
      "Downloading aiohttp-3.12.15-cp312-cp312-win_amd64.whl (450 kB)\n",
      "   ---------------------------------------- 0.0/450.3 kB ? eta -:--:--\n",
      "   --------------------------------------- 450.3/450.3 kB 14.2 MB/s eta 0:00:00\n",
      "Downloading dataclasses_json-0.6.7-py3-none-any.whl (28 kB)\n",
      "Downloading httpx_sse-0.4.1-py3-none-any.whl (8.1 kB)\n",
      "Downloading langchain-0.3.27-py3-none-any.whl (1.0 MB)\n",
      "   ---------------------------------------- 0.0/1.0 MB ? eta -:--:--\n",
      "   ---------------------------------------- 1.0/1.0 MB 31.5 MB/s eta 0:00:00\n",
      "Downloading langsmith-0.3.45-py3-none-any.whl (363 kB)\n",
      "   ---------------------------------------- 0.0/363.0 kB ? eta -:--:--\n",
      "   ---------------------------------------- 363.0/363.0 kB ? eta 0:00:00\n",
      "Downloading numpy-2.3.2-cp312-cp312-win_amd64.whl (12.8 MB)\n",
      "   ---------------------------------------- 0.0/12.8 MB ? eta -:--:--\n",
      "   ------- -------------------------------- 2.3/12.8 MB 75.0 MB/s eta 0:00:01\n",
      "   ------------- -------------------------- 4.2/12.8 MB 53.8 MB/s eta 0:00:01\n",
      "   --------------------- ------------------ 7.0/12.8 MB 55.7 MB/s eta 0:00:01\n",
      "   ------------------------------ --------- 9.7/12.8 MB 56.3 MB/s eta 0:00:01\n",
      "   ------------------------------------- -- 12.1/12.8 MB 54.4 MB/s eta 0:00:01\n",
      "   ---------------------------------------  12.8/12.8 MB 59.8 MB/s eta 0:00:01\n",
      "   ---------------------------------------- 12.8/12.8 MB 46.9 MB/s eta 0:00:00\n",
      "Downloading pydantic_settings-2.10.1-py3-none-any.whl (45 kB)\n",
      "   ---------------------------------------- 0.0/45.2 kB ? eta -:--:--\n",
      "   ---------------------------------------- 45.2/45.2 kB 2.3 MB/s eta 0:00:00\n",
      "Downloading sqlalchemy-2.0.43-cp312-cp312-win_amd64.whl (2.1 MB)\n",
      "   ---------------------------------------- 0.0/2.1 MB ? eta -:--:--\n",
      "   ---------------------------------------  2.1/2.1 MB 44.9 MB/s eta 0:00:01\n",
      "   ---------------------------------------- 2.1/2.1 MB 33.6 MB/s eta 0:00:00\n",
      "Downloading aiohappyeyeballs-2.6.1-py3-none-any.whl (15 kB)\n",
      "Downloading aiosignal-1.4.0-py3-none-any.whl (7.5 kB)\n",
      "Downloading attrs-25.3.0-py3-none-any.whl (63 kB)\n",
      "   ---------------------------------------- 0.0/63.8 kB ? eta -:--:--\n",
      "   ---------------------------------------- 63.8/63.8 kB 3.6 MB/s eta 0:00:00\n",
      "Downloading frozenlist-1.7.0-cp312-cp312-win_amd64.whl (43 kB)\n",
      "   ---------------------------------------- 0.0/43.9 kB ? eta -:--:--\n",
      "   ---------------------------------------- 43.9/43.9 kB 2.1 MB/s eta 0:00:00\n",
      "Downloading greenlet-3.2.4-cp312-cp312-win_amd64.whl (299 kB)\n",
      "   ---------------------------------------- 0.0/299.9 kB ? eta -:--:--\n",
      "   ---------------------------------------- 299.9/299.9 kB 9.3 MB/s eta 0:00:00\n",
      "Downloading langchain_text_splitters-0.3.9-py3-none-any.whl (33 kB)\n",
      "Downloading marshmallow-3.26.1-py3-none-any.whl (50 kB)\n",
      "   ---------------------------------------- 0.0/50.9 kB ? eta -:--:--\n",
      "   ---------------------------------------- 50.9/50.9 kB 2.5 MB/s eta 0:00:00\n",
      "Downloading multidict-6.6.4-cp312-cp312-win_amd64.whl (46 kB)\n",
      "   ---------------------------------------- 0.0/46.1 kB ? eta -:--:--\n",
      "   ---------------------------------------- 46.1/46.1 kB 2.4 MB/s eta 0:00:00\n",
      "Downloading propcache-0.3.2-cp312-cp312-win_amd64.whl (41 kB)\n",
      "   ---------------------------------------- 0.0/41.5 kB ? eta -:--:--\n",
      "   ---------------------------------------- 41.5/41.5 kB 2.1 MB/s eta 0:00:00\n",
      "Downloading typing_inspect-0.9.0-py3-none-any.whl (8.8 kB)\n",
      "Downloading yarl-1.20.1-cp312-cp312-win_amd64.whl (86 kB)\n",
      "   ---------------------------------------- 0.0/86.7 kB ? eta -:--:--\n",
      "   ---------------------------------------- 86.7/86.7 kB 4.8 MB/s eta 0:00:00\n",
      "Downloading mypy_extensions-1.1.0-py3-none-any.whl (5.0 kB)\n",
      "Installing collected packages: propcache, numpy, mypy-extensions, multidict, marshmallow, httpx-sse, greenlet, frozenlist, attrs, aiohappyeyeballs, yarl, typing-inspect, SQLAlchemy, aiosignal, pydantic-settings, langsmith, dataclasses-json, aiohttp, langchain-text-splitters, langchain, langchain_community\n",
      "  Attempting uninstall: langsmith\n",
      "    Found existing installation: langsmith 0.4.13\n",
      "    Uninstalling langsmith-0.4.13:\n",
      "      Successfully uninstalled langsmith-0.4.13\n",
      "Successfully installed SQLAlchemy-2.0.43 aiohappyeyeballs-2.6.1 aiohttp-3.12.15 aiosignal-1.4.0 attrs-25.3.0 dataclasses-json-0.6.7 frozenlist-1.7.0 greenlet-3.2.4 httpx-sse-0.4.1 langchain-0.3.27 langchain-text-splitters-0.3.9 langchain_community-0.3.18 langsmith-0.3.45 marshmallow-3.26.1 multidict-6.6.4 mypy-extensions-1.1.0 numpy-2.3.2 propcache-0.3.2 pydantic-settings-2.10.1 typing-inspect-0.9.0 yarl-1.20.1\n"
     ]
    },
    {
     "name": "stderr",
     "output_type": "stream",
     "text": [
      "\n",
      "[notice] A new release of pip is available: 24.1.1 -> 25.2\n",
      "[notice] To update, run: python.exe -m pip install --upgrade pip\n"
     ]
    }
   ],
   "source": [
    "!pip install langchain_community==0.3.18"
   ]
  },
  {
   "cell_type": "code",
   "execution_count": 2,
   "id": "71c971a4",
   "metadata": {},
   "outputs": [
    {
     "data": {
      "text/plain": [
       "[Document(metadata={'source': '../docs/sample1.txt'}, page_content='텍스트 파일 샘플 1입니다.')]"
      ]
     },
     "execution_count": 2,
     "metadata": {},
     "output_type": "execute_result"
    }
   ],
   "source": [
    "from langchain_community.document_loaders import TextLoader\n",
    "\n",
    "loader = TextLoader('../docs/sample1.txt', encoding='utf-8')\n",
    "loader.load()"
   ]
  },
  {
   "cell_type": "code",
   "execution_count": 3,
   "id": "3dd2e2fd",
   "metadata": {},
   "outputs": [
    {
     "data": {
      "text/plain": [
       "[Document(metadata={'source': '..\\\\docs\\\\sample1.txt'}, page_content='텍스트 파일 샘플 1입니다.'),\n",
       " Document(metadata={'source': '..\\\\docs\\\\sample2.txt'}, page_content='텍스트 파일 샘플 2입니다.')]"
      ]
     },
     "execution_count": 3,
     "metadata": {},
     "output_type": "execute_result"
    }
   ],
   "source": [
    "from langchain_community.document_loaders import DirectoryLoader\n",
    "\n",
    "loader = DirectoryLoader('../docs/', glob=\"*.txt\", loader_cls=TextLoader, \n",
    "                         loader_kwargs={\"encoding\": \"utf-8\"})\n",
    "loader.load()"
   ]
  },
  {
   "cell_type": "code",
   "execution_count": 4,
   "id": "f4a3a8e1",
   "metadata": {},
   "outputs": [
    {
     "data": {
      "text/plain": [
       "[Document(metadata={'source': '../docs/sample.csv', 'row': 0}, page_content='번호: 1\\n과일: 사과\\n가격: 1000'),\n",
       " Document(metadata={'source': '../docs/sample.csv', 'row': 1}, page_content='번호: 2\\n과일: 복숭아\\n가격: 2000'),\n",
       " Document(metadata={'source': '../docs/sample.csv', 'row': 2}, page_content='번호: 3\\n과일: 바나나\\n가격: 3000'),\n",
       " Document(metadata={'source': '../docs/sample.csv', 'row': 3}, page_content='번호: 4\\n과일: 오렌지\\n가격: 4000')]"
      ]
     },
     "execution_count": 4,
     "metadata": {},
     "output_type": "execute_result"
    }
   ],
   "source": [
    "from langchain_community.document_loaders import CSVLoader\n",
    "\n",
    "loader = CSVLoader('../docs/sample.csv', encoding='utf-8')\n",
    "loader.load()"
   ]
  }
 ],
 "metadata": {
  "kernelspec": {
   "display_name": "Python 3",
   "language": "python",
   "name": "python3"
  },
  "language_info": {
   "codemirror_mode": {
    "name": "ipython",
    "version": 3
   },
   "file_extension": ".py",
   "mimetype": "text/x-python",
   "name": "python",
   "nbconvert_exporter": "python",
   "pygments_lexer": "ipython3",
   "version": "3.12.4"
  }
 },
 "nbformat": 4,
 "nbformat_minor": 5
}
