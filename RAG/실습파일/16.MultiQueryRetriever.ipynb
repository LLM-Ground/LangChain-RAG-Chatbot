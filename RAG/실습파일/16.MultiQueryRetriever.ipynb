{
 "cells": [
  {
   "cell_type": "code",
   "execution_count": 12,
   "metadata": {},
   "outputs": [
    {
     "data": {
      "text/plain": [
       "True"
      ]
     },
     "execution_count": 12,
     "metadata": {},
     "output_type": "execute_result"
    }
   ],
   "source": [
    "from dotenv import load_dotenv\n",
    "load_dotenv()"
   ]
  },
  {
   "cell_type": "code",
   "execution_count": 2,
   "metadata": {},
   "outputs": [],
   "source": [
    "from langchain_openai import ChatOpenAI\n",
    "llm = ChatOpenAI(model=\"gpt-4o-mini\")"
   ]
  },
  {
   "cell_type": "code",
   "execution_count": 3,
   "metadata": {},
   "outputs": [
    {
     "name": "stderr",
     "output_type": "stream",
     "text": [
      "No sentence-transformers model found with name klue/bert-base. Creating a new one with mean pooling.\n"
     ]
    }
   ],
   "source": [
    "from langchain_huggingface import HuggingFaceEmbeddings\n",
    "\n",
    "model_name = \"klue/bert-base\" # korea embedding model\n",
    "hf_embeddings = HuggingFaceEmbeddings(model_name=model_name)"
   ]
  },
  {
   "cell_type": "code",
   "execution_count": 6,
   "metadata": {},
   "outputs": [
    {
     "name": "stderr",
     "output_type": "stream",
     "text": [
      "Created a chunk of size 52, which is longer than the specified 1\n"
     ]
    },
    {
     "name": "stderr",
     "output_type": "stream",
     "text": [
      "Created a chunk of size 46, which is longer than the specified 1\n",
      "Created a chunk of size 43, which is longer than the specified 1\n",
      "Created a chunk of size 47, which is longer than the specified 1\n",
      "Created a chunk of size 41, which is longer than the specified 1\n",
      "Created a chunk of size 41, which is longer than the specified 1\n",
      "Created a chunk of size 47, which is longer than the specified 1\n",
      "Created a chunk of size 38, which is longer than the specified 1\n",
      "Created a chunk of size 40, which is longer than the specified 1\n",
      "Created a chunk of size 41, which is longer than the specified 1\n",
      "Created a chunk of size 38, which is longer than the specified 1\n",
      "Created a chunk of size 46, which is longer than the specified 1\n",
      "Created a chunk of size 36, which is longer than the specified 1\n",
      "Created a chunk of size 35, which is longer than the specified 1\n",
      "Created a chunk of size 45, which is longer than the specified 1\n",
      "Created a chunk of size 39, which is longer than the specified 1\n",
      "Created a chunk of size 47, which is longer than the specified 1\n",
      "Created a chunk of size 47, which is longer than the specified 1\n",
      "Created a chunk of size 43, which is longer than the specified 1\n"
     ]
    },
    {
     "data": {
      "text/plain": [
       "[Document(metadata={'source': '../docs/travel.txt'}, page_content='여행을 준비하는 방법은 무엇인가? 필요한 짐을 꾸리는 팁과 함께 여행의 기본 요소를 알아보자.'),\n",
       " Document(metadata={'source': '../docs/travel.txt'}, page_content='여행 가방을 꾸리는 노하우. 최소한의 짐으로 최대한의 효율을 내는 팁을 공유합니다.'),\n",
       " Document(metadata={'source': '../docs/travel.txt'}, page_content='효율적인 여행 계획 세우기. 예산을 절약하면서도 만족스러운 여행을 하는 방법.'),\n",
       " Document(metadata={'source': '../docs/travel.txt'}, page_content='여행 경로를 설계하는 법. 최적의 동선을 계획하여 피로도를 줄이는 방법을 소개합니다.'),\n",
       " Document(metadata={'source': '../docs/travel.txt'}, page_content='여행 일정 짜는 방법. 관광 명소를 효과적으로 방문하기 위한 스케줄링 팁.'),\n",
       " Document(metadata={'source': '../docs/travel.txt'}, page_content='여행지에서의 안전한 이동 수단. 대중교통과 렌터카, 어떤 것이 유리할까?.'),\n",
       " Document(metadata={'source': '../docs/travel.txt'}, page_content='여행 중 건강을 유지하는 법. 장거리 이동 시 피로를 줄이는 방법과 유용한 건강 팁.'),\n",
       " Document(metadata={'source': '../docs/travel.txt'}, page_content='여행 중 의사소통 팁. 현지 언어를 몰라도 효과적으로 소통하는 방법.'),\n",
       " Document(metadata={'source': '../docs/travel.txt'}, page_content='여행 예산을 절약하는 10가지 방법. 적은 비용으로 알차게 여행하는 법.'),\n",
       " Document(metadata={'source': '../docs/travel.txt'}, page_content='여행 중 음식 고르는 법. 지역 특산물을 즐기면서도 위생을 고려하는 요령.'),\n",
       " Document(metadata={'source': '../docs/travel.txt'}, page_content='배낭여행과 럭셔리 여행의 차이. 각각의 장점과 단점을 비교해 봅니다.'),\n",
       " Document(metadata={'source': '../docs/travel.txt'}, page_content='세계에서 가장 아름다운 해변 10선. 푸른 바다와 하얀 모래가 있는 최고의 여행지.'),\n",
       " Document(metadata={'source': '../docs/travel.txt'}, page_content='사막 여행의 매력. 광활한 사막에서 즐길 수 있는 색다른 경험들.'),\n",
       " Document(metadata={'source': '../docs/travel.txt'}, page_content='북극과 남극 여행 가이드. 극지방 탐험을 위한 준비와 주의사항.'),\n",
       " Document(metadata={'source': '../docs/travel.txt'}, page_content='유럽 기차 여행의 장점. 기차를 이용해 유럽 여러 나라를 편리하게 여행하는 방법.'),\n",
       " Document(metadata={'source': '../docs/travel.txt'}, page_content='일본 온천 여행의 즐거움. 온천 문화와 최고의 온천 명소를 소개합니다.'),\n",
       " Document(metadata={'source': '../docs/travel.txt'}, page_content='배낭여행자를 위한 추천 도시. 예산이 적어도 충분히 즐길 수 있는 세계 곳곳의 명소.'),\n",
       " Document(metadata={'source': '../docs/travel.txt'}, page_content='이색적인 숙소에서 머물기. 트리하우스, 동굴 호텔, 빙하 호텔 등 독특한 숙소 체험.'),\n",
       " Document(metadata={'source': '../docs/travel.txt'}, page_content='전 세계 축제를 즐기는 법. 카니발, 옥토버페스트 등 세계 각국의 축제 소개.'),\n",
       " Document(metadata={'source': '../docs/travel.txt'}, page_content='한적한 여행지 추천. 관광객이 몰리지 않는 조용하고 아름다운 여행지를 찾아보자.')]"
      ]
     },
     "execution_count": 6,
     "metadata": {},
     "output_type": "execute_result"
    }
   ],
   "source": [
    "from langchain_community.document_loaders import TextLoader\n",
    "from langchain_text_splitters import CharacterTextSplitter\n",
    "\n",
    "text_splitter = CharacterTextSplitter(\n",
    "    separator=\"\\n\",\n",
    "    chunk_size=1, # seperator로만 청크를 나누게 된다.\n",
    "    chunk_overlap=0\n",
    ")\n",
    "\n",
    "loader = TextLoader(\"../docs/travel.txt\", encoding=\"utf-8\")\n",
    "\n",
    "documents = loader.load_and_split(text_splitter=text_splitter)\n",
    "documents"
   ]
  },
  {
   "cell_type": "code",
   "execution_count": 7,
   "metadata": {},
   "outputs": [
    {
     "name": "stderr",
     "output_type": "stream",
     "text": [
      "Failed to send telemetry event ClientStartEvent: capture() takes 1 positional argument but 3 were given\n",
      "Failed to send telemetry event ClientCreateCollectionEvent: capture() takes 1 positional argument but 3 were given\n"
     ]
    }
   ],
   "source": [
    "from langchain_chroma import Chroma\n",
    "\n",
    "db = Chroma.from_documents(documents, hf_embeddings)"
   ]
  },
  {
   "cell_type": "code",
   "execution_count": 8,
   "metadata": {},
   "outputs": [],
   "source": [
    "from langchain.retrievers.multi_query import MultiQueryRetriever\n",
    "retriever = MultiQueryRetriever.from_llm(retriever=db.as_retriever(), llm=llm)"
   ]
  },
  {
   "cell_type": "code",
   "execution_count": 11,
   "metadata": {},
   "outputs": [
    {
     "name": "stdout",
     "output_type": "stream",
     "text": [
      "\u001b[32;1m\u001b[1;3m[chain/start]\u001b[0m \u001b[1m[retriever:MultiQueryRetriever > chain:RunnableSequence] Entering Chain run with input:\n",
      "\u001b[0m{\n",
      "  \"question\": \"여행 계획 세우기\"\n",
      "}\n",
      "\u001b[32;1m\u001b[1;3m[chain/start]\u001b[0m \u001b[1m[retriever:MultiQueryRetriever > chain:RunnableSequence > prompt:PromptTemplate] Entering Prompt run with input:\n",
      "\u001b[0m{\n",
      "  \"question\": \"여행 계획 세우기\"\n",
      "}\n",
      "\u001b[36;1m\u001b[1;3m[chain/end]\u001b[0m \u001b[1m[retriever:MultiQueryRetriever > chain:RunnableSequence > prompt:PromptTemplate] [1ms] Exiting Prompt run with output:\n",
      "\u001b[0m[outputs]\n",
      "\u001b[32;1m\u001b[1;3m[llm/start]\u001b[0m \u001b[1m[retriever:MultiQueryRetriever > chain:RunnableSequence > llm:ChatOpenAI] Entering LLM run with input:\n",
      "\u001b[0m{\n",
      "  \"prompts\": [\n",
      "    \"Human: You are an AI language model assistant. Your task is \\n    to generate 3 different versions of the given user \\n    question to retrieve relevant documents from a vector  database. \\n    By generating multiple perspectives on the user question, \\n    your goal is to help the user overcome some of the limitations \\n    of distance-based similarity search. Provide these alternative \\n    questions separated by newlines. Original question: 여행 계획 세우기\"\n",
      "  ]\n",
      "}\n",
      "\u001b[36;1m\u001b[1;3m[llm/end]\u001b[0m \u001b[1m[retriever:MultiQueryRetriever > chain:RunnableSequence > llm:ChatOpenAI] [1.57s] Exiting LLM run with output:\n",
      "\u001b[0m{\n",
      "  \"generations\": [\n",
      "    [\n",
      "      {\n",
      "        \"text\": \"여행 일정을 어떻게 짜면 좋을까요?  \\n여행 준비를 위해 필요한 단계는 무엇인가요?  \\n추천하는 여행 코스나 팁이 있을까요?  \",\n",
      "        \"generation_info\": {\n",
      "          \"finish_reason\": \"stop\",\n",
      "          \"logprobs\": null\n",
      "        },\n",
      "        \"type\": \"ChatGeneration\",\n",
      "        \"message\": {\n",
      "          \"lc\": 1,\n",
      "          \"type\": \"constructor\",\n",
      "          \"id\": [\n",
      "            \"langchain\",\n",
      "            \"schema\",\n",
      "            \"messages\",\n",
      "            \"AIMessage\"\n",
      "          ],\n",
      "          \"kwargs\": {\n",
      "            \"content\": \"여행 일정을 어떻게 짜면 좋을까요?  \\n여행 준비를 위해 필요한 단계는 무엇인가요?  \\n추천하는 여행 코스나 팁이 있을까요?  \",\n",
      "            \"additional_kwargs\": {\n",
      "              \"refusal\": null\n",
      "            },\n",
      "            \"response_metadata\": {\n",
      "              \"token_usage\": {\n",
      "                \"completion_tokens\": 39,\n",
      "                \"prompt_tokens\": 95,\n",
      "                \"total_tokens\": 134,\n",
      "                \"completion_tokens_details\": {\n",
      "                  \"accepted_prediction_tokens\": 0,\n",
      "                  \"audio_tokens\": 0,\n",
      "                  \"reasoning_tokens\": 0,\n",
      "                  \"rejected_prediction_tokens\": 0\n",
      "                },\n",
      "                \"prompt_tokens_details\": {\n",
      "                  \"audio_tokens\": 0,\n",
      "                  \"cached_tokens\": 0\n",
      "                }\n",
      "              },\n",
      "              \"model_name\": \"gpt-4o-mini-2024-07-18\",\n",
      "              \"system_fingerprint\": \"fp_560af6e559\",\n",
      "              \"finish_reason\": \"stop\",\n",
      "              \"logprobs\": null\n",
      "            },\n",
      "            \"type\": \"ai\",\n",
      "            \"id\": \"run--03964829-4537-4584-9640-09eb1b9a4cf2-0\",\n",
      "            \"usage_metadata\": {\n",
      "              \"input_tokens\": 95,\n",
      "              \"output_tokens\": 39,\n",
      "              \"total_tokens\": 134,\n",
      "              \"input_token_details\": {\n",
      "                \"audio\": 0,\n",
      "                \"cache_read\": 0\n",
      "              },\n",
      "              \"output_token_details\": {\n",
      "                \"audio\": 0,\n",
      "                \"reasoning\": 0\n",
      "              }\n",
      "            },\n",
      "            \"tool_calls\": [],\n",
      "            \"invalid_tool_calls\": []\n",
      "          }\n",
      "        }\n",
      "      }\n",
      "    ]\n",
      "  ],\n",
      "  \"llm_output\": {\n",
      "    \"token_usage\": {\n",
      "      \"completion_tokens\": 39,\n",
      "      \"prompt_tokens\": 95,\n",
      "      \"total_tokens\": 134,\n",
      "      \"completion_tokens_details\": {\n",
      "        \"accepted_prediction_tokens\": 0,\n",
      "        \"audio_tokens\": 0,\n",
      "        \"reasoning_tokens\": 0,\n",
      "        \"rejected_prediction_tokens\": 0\n",
      "      },\n",
      "      \"prompt_tokens_details\": {\n",
      "        \"audio_tokens\": 0,\n",
      "        \"cached_tokens\": 0\n",
      "      }\n",
      "    },\n",
      "    \"model_name\": \"gpt-4o-mini-2024-07-18\",\n",
      "    \"system_fingerprint\": \"fp_560af6e559\"\n",
      "  },\n",
      "  \"run\": null,\n",
      "  \"type\": \"LLMResult\"\n",
      "}\n",
      "\u001b[32;1m\u001b[1;3m[chain/start]\u001b[0m \u001b[1m[retriever:MultiQueryRetriever > chain:RunnableSequence > parser:LineListOutputParser] Entering Parser run with input:\n",
      "\u001b[0m[inputs]\n",
      "\u001b[36;1m\u001b[1;3m[chain/end]\u001b[0m \u001b[1m[retriever:MultiQueryRetriever > chain:RunnableSequence > parser:LineListOutputParser] [0ms] Exiting Parser run with output:\n",
      "\u001b[0m{\n",
      "  \"output\": [\n",
      "    \"여행 일정을 어떻게 짜면 좋을까요?  \",\n",
      "    \"여행 준비를 위해 필요한 단계는 무엇인가요?  \",\n",
      "    \"추천하는 여행 코스나 팁이 있을까요?\"\n",
      "  ]\n",
      "}\n",
      "\u001b[36;1m\u001b[1;3m[chain/end]\u001b[0m \u001b[1m[retriever:MultiQueryRetriever > chain:RunnableSequence] [1.58s] Exiting Chain run with output:\n",
      "\u001b[0m{\n",
      "  \"output\": [\n",
      "    \"여행 일정을 어떻게 짜면 좋을까요?  \",\n",
      "    \"여행 준비를 위해 필요한 단계는 무엇인가요?  \",\n",
      "    \"추천하는 여행 코스나 팁이 있을까요?\"\n",
      "  ]\n",
      "}\n"
     ]
    },
    {
     "data": {
      "text/plain": [
       "[Document(id='6b9acc1d-50a5-4c72-b09c-4a0b4c8c606f', metadata={'source': '../docs/travel.txt'}, page_content='여행 경로를 설계하는 법. 최적의 동선을 계획하여 피로도를 줄이는 방법을 소개합니다.'),\n",
       " Document(id='aee6650a-5906-45c0-b629-4b966257a01c', metadata={'source': '../docs/travel.txt'}, page_content='여행을 준비하는 방법은 무엇인가? 필요한 짐을 꾸리는 팁과 함께 여행의 기본 요소를 알아보자.'),\n",
       " Document(id='a219f14e-3fec-4ec7-a500-65371ab1136c', metadata={'source': '../docs/travel.txt'}, page_content='효율적인 여행 계획 세우기. 예산을 절약하면서도 만족스러운 여행을 하는 방법.'),\n",
       " Document(id='ffe94944-48af-406b-ba2e-3a6cad9f6933', metadata={'source': '../docs/travel.txt'}, page_content='여행 일정 짜는 방법. 관광 명소를 효과적으로 방문하기 위한 스케줄링 팁.'),\n",
       " Document(id='baa101eb-4421-4f97-82f5-a2981174c9ad', metadata={'source': '../docs/travel.txt'}, page_content='여행 중 건강을 유지하는 법. 장거리 이동 시 피로를 줄이는 방법과 유용한 건강 팁.'),\n",
       " Document(id='430aa693-0a85-45eb-9186-d7c4249a7555', metadata={'source': '../docs/travel.txt'}, page_content='여행지에서의 안전한 이동 수단. 대중교통과 렌터카, 어떤 것이 유리할까?.'),\n",
       " Document(id='3910d651-1bff-4f1f-9527-485aedbbad1f', metadata={'source': '../docs/travel.txt'}, page_content='한적한 여행지 추천. 관광객이 몰리지 않는 조용하고 아름다운 여행지를 찾아보자.')]"
      ]
     },
     "execution_count": 11,
     "metadata": {},
     "output_type": "execute_result"
    }
   ],
   "source": [
    "retriever.invoke(\"여행 계획 세우기\")"
   ]
  },
  {
   "cell_type": "code",
   "execution_count": 10,
   "metadata": {},
   "outputs": [],
   "source": [
    "import langchain\n",
    "langchain.debug = True"
   ]
  }
 ],
 "metadata": {
  "kernelspec": {
   "display_name": "3.12.11",
   "language": "python",
   "name": "python3"
  },
  "language_info": {
   "codemirror_mode": {
    "name": "ipython",
    "version": 3
   },
   "file_extension": ".py",
   "mimetype": "text/x-python",
   "name": "python",
   "nbconvert_exporter": "python",
   "pygments_lexer": "ipython3",
   "version": "3.12.11"
  }
 },
 "nbformat": 4,
 "nbformat_minor": 2
}
